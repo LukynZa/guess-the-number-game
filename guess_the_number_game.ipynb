{
  "nbformat": 4,
  "nbformat_minor": 0,
  "metadata": {
    "colab": {
      "provenance": [],
      "collapsed_sections": [],
      "authorship_tag": "ABX9TyOolUVa6lppkC+ZbBir4f6k",
      "include_colab_link": true
    },
    "kernelspec": {
      "name": "python3",
      "display_name": "Python 3"
    },
    "language_info": {
      "name": "python"
    }
  },
  "cells": [
    {
      "cell_type": "markdown",
      "metadata": {
        "id": "view-in-github",
        "colab_type": "text"
      },
      "source": [
        "<a href=\"https://colab.research.google.com/github/LukynZa/guess-the-number-game/blob/main/guess_the_number_game.ipynb\" target=\"_parent\"><img src=\"https://colab.research.google.com/assets/colab-badge.svg\" alt=\"Open In Colab\"/></a>"
      ]
    },
    {
      "cell_type": "markdown",
      "source": [
        "**Install:**"
      ],
      "metadata": {
        "id": "NXepHAp8F2zs"
      }
    },
    {
      "cell_type": "code",
      "source": [
        "import sys\n",
        "import random"
      ],
      "metadata": {
        "id": "5YhswEfmPY-x"
      },
      "execution_count": 4,
      "outputs": []
    },
    {
      "cell_type": "markdown",
      "source": [
        "**Game code**"
      ],
      "metadata": {
        "id": "0FK2UsR0GMZD"
      }
    },
    {
      "cell_type": "code",
      "source": [
        "\n",
        "## první level\n",
        "pocitadlo_pokusu = 0\n",
        "nejnizsi_cislo = 1\n",
        "nejvyssi_cislo = 10\n",
        "tajne_cislo = random.randint((nejnizsi_cislo), (nejvyssi_cislo))\n",
        "\n",
        "\n",
        "while True:\n",
        "    zadane_cislo = int(input(\"Zadej libovolné celé číslo v rozmezí \" + str(nejnizsi_cislo) + \" - \"+ str(nejvyssi_cislo) + \": \" ))\n",
        "    if tajne_cislo == zadane_cislo:\n",
        "        print(f\"\\nBingo! Správné číslo jsi uhodl na {pocitadlo_pokusu + 1}. pokus\")\n",
        "        break\n",
        "    elif tajne_cislo > zadane_cislo:\n",
        "        print(\"To je málo, zkus trochu přihodit\")\n",
        "    else:\n",
        "        print(\"Uber, tohle jsi přestřelil\")\n",
        "    pocitadlo_pokusu += 1\n",
        "\n",
        "## pokračovat?\n",
        "\n",
        "pokracovani = input(\"\\n\\nChceš těžší pokračování? \\nOdpověz ano / ne: \")\n",
        "\n",
        "if pokracovani == \"ano\":\n",
        "    print(\"\\nTak super, pokračujeme. Teď to bude složitější...\")\n",
        "else:\n",
        "    print(\"Haha! Věděl jsem, že na to nemáš...\")\n",
        "    sys.exit(\"Uživatel to zabalil\")\n",
        "\n",
        "\n",
        "## druhý level\n",
        "\n",
        "pocitadlo_pokusu = 0\n",
        "nejnizsi_cislo = 1\n",
        "nejvyssi_cislo = 100\n",
        "tajne_cislo = random.randint((nejnizsi_cislo), (nejvyssi_cislo))\n",
        "\n",
        "\n",
        "while True:\n",
        "    zadane_cislo = int(input(\"Zadej libovolné celé číslo v rozmezí \" + str(nejnizsi_cislo) + \" - \"+ str(nejvyssi_cislo) + \": \" ))\n",
        "    if tajne_cislo == zadane_cislo:\n",
        "        print(f\"\\nZase jsi to zvládl! Správné číslo jsi uhodl na {pocitadlo_pokusu + 1}. pokus\")\n",
        "        break\n",
        "    elif tajne_cislo > zadane_cislo:\n",
        "        print(\"To je málo, zkus trochu přihodit\")\n",
        "    else:\n",
        "        print(\"Uber, tohle jsi přestřelil\")\n",
        "    pocitadlo_pokusu += 1\n",
        "\n",
        "## pokračovat s vlastním rozsahem?\n",
        "\n",
        "pokracovani = input(\"\\n\\nSeš dobrej. Do třetice, chceš to zkusit znova? Tentokrát s vlasním rozsahem. \\nOdpověz ano / ne: \")\n",
        "\n",
        "if pokracovani == \"ano\":\n",
        "    print(\"\\nTak super, pokračujeme. Teď to bude složitější...\")\n",
        "else:\n",
        "    print(\"Haha! Věděl jsem, že na to nemáš...\")\n",
        "    sys.exit(\"Uživatel to zabalil\")\n",
        "\n",
        "## třetí level\n",
        "\n",
        "pocitadlo_pokusu = 0\n",
        "nejnizsi_cislo = int(input(\"zadej nejnižší číslo rozsahu: \"))\n",
        "nejvyssi_cislo = int(input(\"zadej nejvyšší číslo rozsahu: \"))\n",
        "tajne_cislo = random.randint((nejnizsi_cislo), (nejvyssi_cislo))\n",
        "\n",
        "\n",
        "while True:\n",
        "    zadane_cislo = int(input(\"Zadej libovolné celé číslo v rozmezí \" + str(nejnizsi_cislo) + \" - \"+ str(nejvyssi_cislo) + \": \" ))\n",
        "    if tajne_cislo == zadane_cislo:\n",
        "        print(f\"\\n\\nDobrá práce, zase jsi to zvládl! Tentokráte na {pocitadlo_pokusu + 1}. pokus. Jsi rozený kryptograf a moje křemíky na tebe nemají!\")\n",
        "        break\n",
        "    elif tajne_cislo > zadane_cislo:\n",
        "        print(\"To je málo, zkus trochu přihodit\")\n",
        "    else:\n",
        "        print(\"Uber, tohle jsi přestřelil\")\n",
        "    pocitadlo_pokusu += 1"
      ],
      "metadata": {
        "id": "QBS_xH3cF9w9",
        "colab": {
          "base_uri": "https://localhost:8080/",
          "height": 397
        },
        "outputId": "5fc95cfe-2784-444f-e77a-4917ca2abd8a"
      },
      "execution_count": 11,
      "outputs": [
        {
          "output_type": "error",
          "ename": "KeyboardInterrupt",
          "evalue": "ignored",
          "traceback": [
            "\u001b[0;31m---------------------------------------------------------------------------\u001b[0m",
            "\u001b[0;31mKeyboardInterrupt\u001b[0m                         Traceback (most recent call last)",
            "\u001b[0;32m<ipython-input-11-9e1cf29e2901>\u001b[0m in \u001b[0;36m<module>\u001b[0;34m\u001b[0m\n\u001b[1;32m      7\u001b[0m \u001b[0;34m\u001b[0m\u001b[0m\n\u001b[1;32m      8\u001b[0m \u001b[0;32mwhile\u001b[0m \u001b[0;32mTrue\u001b[0m\u001b[0;34m:\u001b[0m\u001b[0;34m\u001b[0m\u001b[0;34m\u001b[0m\u001b[0m\n\u001b[0;32m----> 9\u001b[0;31m     \u001b[0mzadane_cislo\u001b[0m \u001b[0;34m=\u001b[0m \u001b[0mint\u001b[0m\u001b[0;34m(\u001b[0m\u001b[0minput\u001b[0m\u001b[0;34m(\u001b[0m\u001b[0;34m\"Zadej libovolné celé číslo v rozmezí \"\u001b[0m \u001b[0;34m+\u001b[0m \u001b[0mstr\u001b[0m\u001b[0;34m(\u001b[0m\u001b[0mnejnizsi_cislo\u001b[0m\u001b[0;34m)\u001b[0m \u001b[0;34m+\u001b[0m \u001b[0;34m\" - \"\u001b[0m\u001b[0;34m+\u001b[0m \u001b[0mstr\u001b[0m\u001b[0;34m(\u001b[0m\u001b[0mnejvyssi_cislo\u001b[0m\u001b[0;34m)\u001b[0m \u001b[0;34m+\u001b[0m \u001b[0;34m\": \"\u001b[0m \u001b[0;34m)\u001b[0m\u001b[0;34m)\u001b[0m\u001b[0;34m\u001b[0m\u001b[0;34m\u001b[0m\u001b[0m\n\u001b[0m\u001b[1;32m     10\u001b[0m     \u001b[0;32mif\u001b[0m \u001b[0mtajne_cislo\u001b[0m \u001b[0;34m==\u001b[0m \u001b[0mzadane_cislo\u001b[0m\u001b[0;34m:\u001b[0m\u001b[0;34m\u001b[0m\u001b[0;34m\u001b[0m\u001b[0m\n\u001b[1;32m     11\u001b[0m         \u001b[0mprint\u001b[0m\u001b[0;34m(\u001b[0m\u001b[0;34mf\"\\nBingo! Správné číslo jsi uhodl na {pocitadlo_pokusu + 1}. pokus\"\u001b[0m\u001b[0;34m)\u001b[0m\u001b[0;34m\u001b[0m\u001b[0;34m\u001b[0m\u001b[0m\n",
            "\u001b[0;32m/usr/local/lib/python3.7/dist-packages/ipykernel/kernelbase.py\u001b[0m in \u001b[0;36mraw_input\u001b[0;34m(self, prompt)\u001b[0m\n\u001b[1;32m    861\u001b[0m             \u001b[0mself\u001b[0m\u001b[0;34m.\u001b[0m\u001b[0m_parent_ident\u001b[0m\u001b[0;34m,\u001b[0m\u001b[0;34m\u001b[0m\u001b[0;34m\u001b[0m\u001b[0m\n\u001b[1;32m    862\u001b[0m             \u001b[0mself\u001b[0m\u001b[0;34m.\u001b[0m\u001b[0m_parent_header\u001b[0m\u001b[0;34m,\u001b[0m\u001b[0;34m\u001b[0m\u001b[0;34m\u001b[0m\u001b[0m\n\u001b[0;32m--> 863\u001b[0;31m             \u001b[0mpassword\u001b[0m\u001b[0;34m=\u001b[0m\u001b[0;32mFalse\u001b[0m\u001b[0;34m,\u001b[0m\u001b[0;34m\u001b[0m\u001b[0;34m\u001b[0m\u001b[0m\n\u001b[0m\u001b[1;32m    864\u001b[0m         )\n\u001b[1;32m    865\u001b[0m \u001b[0;34m\u001b[0m\u001b[0m\n",
            "\u001b[0;32m/usr/local/lib/python3.7/dist-packages/ipykernel/kernelbase.py\u001b[0m in \u001b[0;36m_input_request\u001b[0;34m(self, prompt, ident, parent, password)\u001b[0m\n\u001b[1;32m    902\u001b[0m             \u001b[0;32mexcept\u001b[0m \u001b[0mKeyboardInterrupt\u001b[0m\u001b[0;34m:\u001b[0m\u001b[0;34m\u001b[0m\u001b[0;34m\u001b[0m\u001b[0m\n\u001b[1;32m    903\u001b[0m                 \u001b[0;31m# re-raise KeyboardInterrupt, to truncate traceback\u001b[0m\u001b[0;34m\u001b[0m\u001b[0;34m\u001b[0m\u001b[0;34m\u001b[0m\u001b[0m\n\u001b[0;32m--> 904\u001b[0;31m                 \u001b[0;32mraise\u001b[0m \u001b[0mKeyboardInterrupt\u001b[0m\u001b[0;34m(\u001b[0m\u001b[0;34m\"Interrupted by user\"\u001b[0m\u001b[0;34m)\u001b[0m \u001b[0;32mfrom\u001b[0m \u001b[0;32mNone\u001b[0m\u001b[0;34m\u001b[0m\u001b[0;34m\u001b[0m\u001b[0m\n\u001b[0m\u001b[1;32m    905\u001b[0m             \u001b[0;32mexcept\u001b[0m \u001b[0mException\u001b[0m \u001b[0;32mas\u001b[0m \u001b[0me\u001b[0m\u001b[0;34m:\u001b[0m\u001b[0;34m\u001b[0m\u001b[0;34m\u001b[0m\u001b[0m\n\u001b[1;32m    906\u001b[0m                 \u001b[0mself\u001b[0m\u001b[0;34m.\u001b[0m\u001b[0mlog\u001b[0m\u001b[0;34m.\u001b[0m\u001b[0mwarning\u001b[0m\u001b[0;34m(\u001b[0m\u001b[0;34m\"Invalid Message:\"\u001b[0m\u001b[0;34m,\u001b[0m \u001b[0mexc_info\u001b[0m\u001b[0;34m=\u001b[0m\u001b[0;32mTrue\u001b[0m\u001b[0;34m)\u001b[0m\u001b[0;34m\u001b[0m\u001b[0;34m\u001b[0m\u001b[0m\n",
            "\u001b[0;31mKeyboardInterrupt\u001b[0m: Interrupted by user"
          ]
        }
      ]
    },
    {
      "cell_type": "code",
      "source": [],
      "metadata": {
        "id": "TejuGUh5OUgv"
      },
      "execution_count": null,
      "outputs": []
    }
  ]
}